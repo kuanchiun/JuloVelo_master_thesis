{
 "cells": [
  {
   "cell_type": "code",
   "execution_count": 1,
   "id": "4b49ae76-f5a6-4a4a-83d9-f54a6e6b8e27",
   "metadata": {},
   "outputs": [],
   "source": [
    "using Pkg"
   ]
  },
  {
   "cell_type": "code",
   "execution_count": 2,
   "id": "d16e2f90-9eb2-437f-a8a1-edfe4a08fb44",
   "metadata": {},
   "outputs": [
    {
     "data": {
      "text/plain": [
       "\"/home/tung/anaconda3/envs/celldancer/bin/python3\""
      ]
     },
     "execution_count": 2,
     "metadata": {},
     "output_type": "execute_result"
    }
   ],
   "source": [
    "ENV[\"PYTHON\"] = \"/home/tung/anaconda3/envs/celldancer/bin/python3\""
   ]
  },
  {
   "cell_type": "code",
   "execution_count": 3,
   "id": "34133fe9-7377-4f89-94a7-2192c510db4c",
   "metadata": {},
   "outputs": [
    {
     "name": "stderr",
     "output_type": "stream",
     "text": [
      "\u001b[32m\u001b[1m    Building\u001b[22m\u001b[39m Conda ─→ `~/.julia/scratchspaces/44cfe95a-1eb2-52ea-b672-e2afdf69b78f/51cab8e982c5b598eea9c8ceaced4b58d9dd37c9/build.log`\n",
      "\u001b[32m\u001b[1m    Building\u001b[22m\u001b[39m PyCall → `~/.julia/scratchspaces/44cfe95a-1eb2-52ea-b672-e2afdf69b78f/9816a3826b0ebf49ab4926e2b18842ad8b5c8f04/build.log`\n",
      "\u001b[32m\u001b[1mPrecompiling\u001b[22m\u001b[39m project...\n",
      "\u001b[32m  ✓ \u001b[39m\u001b[90mCUDA_Runtime_jll\u001b[39m\n",
      "\u001b[32m  ✓ \u001b[39m\u001b[90mCUDNN_jll\u001b[39m\n",
      "\u001b[32m  ✓ \u001b[39mCUDA\n",
      "\u001b[32m  ✓ \u001b[39m\u001b[90mStridedViews → StridedViewsCUDAExt\u001b[39m\n",
      "\u001b[32m  ✓ \u001b[39m\u001b[90mArrayInterface → ArrayInterfaceCUDAExt\u001b[39m\n",
      "\u001b[32m  ✓ \u001b[39m\u001b[90mCUDA → SpecialFunctionsExt\u001b[39m\n",
      "    ChainRulesCoreExt\u001b[36m Being precompiled by another process (pid: 2336384, pidfile: /home/tung/.julia/compiled/v1.10/ChainRulesCoreExt/S7fZn_WIX2d.ji.pidfile)\u001b[39m\n",
      "\u001b[32m  ✓ \u001b[39m\u001b[90mCUDA → ChainRulesCoreExt\u001b[39m\n",
      "\u001b[32m  ✓ \u001b[39m\u001b[90mNNlib → NNlibCUDAExt\u001b[39m\n",
      "\u001b[32m  ✓ \u001b[39mcuDNN\n",
      "\u001b[32m  ✓ \u001b[39m\u001b[90mNNlib → NNlibCUDACUDNNExt\u001b[39m\n",
      "\u001b[32m  ✓ \u001b[39m\u001b[90mFlux → FluxCUDAExt\u001b[39m\n",
      "\u001b[32m  ✓ \u001b[39m\u001b[90mFlux → FluxCUDAcuDNNExt\u001b[39m\n",
      "\u001b[32m  ✓ \u001b[39mRegVelo\n",
      "\u001b[32m  ✓ \u001b[39mJuloVelo\n",
      "  14 dependencies successfully precompiled in 39 seconds. 392 already precompiled.\n"
     ]
    }
   ],
   "source": [
    "Pkg.build(\"PyCall\")"
   ]
  },
  {
   "cell_type": "code",
   "execution_count": 4,
   "id": "e6291cb8-6a37-4617-b353-c2ff00b19bef",
   "metadata": {},
   "outputs": [],
   "source": [
    "using JuloVelo\n",
    "using Plots\n",
    "using JLD"
   ]
  },
  {
   "cell_type": "code",
   "execution_count": 5,
   "id": "4cb85249-421e-4153-a22d-5f458f55967a",
   "metadata": {},
   "outputs": [
    {
     "data": {
      "text/plain": [
       "benchmark (generic function with 1 method)"
      ]
     },
     "execution_count": 5,
     "metadata": {},
     "output_type": "execute_result"
    }
   ],
   "source": [
    "function benchmark()\n",
    "    data = JuloVeloObject(\"data\", 2);\n",
    "\n",
    "    filter_gene(data);\n",
    "\n",
    "    define_gene_kinetic(data);\n",
    "\n",
    "    reshape_data(data);\n",
    "\n",
    "    build_velocity_model(data);\n",
    "\n",
    "    density_sampling(data);\n",
    "\n",
    "    train(data; learning_rate = 0.0001)\n",
    "\n",
    "    velocity_estimation(data);\n",
    "\n",
    "    compute_cell_velocity(data; pipeline_type = \"celldancer\");\n",
    "\n",
    "    estimate_pseudotime(data, 5, n_repeat = 5);\n",
    "end"
   ]
  },
  {
   "cell_type": "code",
   "execution_count": 6,
   "id": "cd4f1eea-5e58-4620-97fb-1cb7cfad0eb1",
   "metadata": {},
   "outputs": [
    {
     "name": "stderr",
     "output_type": "stream",
     "text": [
      "\u001b[36m\u001b[1m[ \u001b[22m\u001b[39m\u001b[36m\u001b[1mInfo: \u001b[22m\u001b[39m1172 genes are filtered due to low correlation between unspliced and spliced RNA\n",
      "\u001b[36m\u001b[1m[ \u001b[22m\u001b[39m\u001b[36m\u001b[1mInfo: \u001b[22m\u001b[39mSee .bad_correlation_genes for details\n",
      "\u001b[36m\u001b[1m[ \u001b[22m\u001b[39m\u001b[36m\u001b[1mInfo: \u001b[22m\u001b[39m53 genes are filtered due to bad kinetics\n",
      "\u001b[36m\u001b[1m[ \u001b[22m\u001b[39m\u001b[36m\u001b[1mInfo: \u001b[22m\u001b[39mSee .bad_kinetics_genes for details\n",
      "\u001b[36m\u001b[1m[ \u001b[22m\u001b[39m\u001b[36m\u001b[1mInfo: \u001b[22m\u001b[39mdata is reshaped to (2, 18213, 775)\n",
      "\u001b[36m\u001b[1m[ \u001b[22m\u001b[39m\u001b[36m\u001b[1mInfo: \u001b[22m\u001b[39m775 genes are used in velocity estimation\n",
      "\u001b[36m\u001b[1m[ \u001b[22m\u001b[39m\u001b[36m\u001b[1mInfo: \u001b[22m\u001b[39mSuccessfully initialize velocity model, see param.velocity_model for details\n",
      "\u001b[36m\u001b[1m[ \u001b[22m\u001b[39m\u001b[36m\u001b[1mInfo: \u001b[22m\u001b[39mTraining on gpu\n",
      "\u001b[36m\u001b[1m[ \u001b[22m\u001b[39m\u001b[36m\u001b[1mInfo: \u001b[22m\u001b[39mTraining with Adam Optimizer\n",
      "\u001b[36m\u001b[1m[ \u001b[22m\u001b[39m\u001b[36m\u001b[1mInfo: \u001b[22m\u001b[39mTensorBoard logging at \"/media/data/bmi111/KuanChiun/temp/MultiVelo/thesis/results/speedup/saves/\"\n",
      "\u001b[36m\u001b[1m[ \u001b[22m\u001b[39m\u001b[36m\u001b[1mInfo: \u001b[22m\u001b[39mStart training\n"
     ]
    },
    {
     "name": "stdout",
     "output_type": "stream",
     "text": [
      "Epoch: 0  Train: (cos_loss = 52958.55f0, penalty = 2822.1972, AvgMeanCos = 0.9715f0)\n",
      "Epoch: 1  Train: (cos_loss = 52203.227f0, penalty = 2821.9902, AvgMeanCos = 0.9719f0)\n",
      "Epoch: 2  Train: (cos_loss = 51535.45f0, penalty = 2821.783, AvgMeanCos = 0.9723f0)\n",
      "Epoch: 3  Train: (cos_loss = 50931.215f0, penalty = 2821.5735, AvgMeanCos = 0.9726f0)\n",
      "Epoch: 4  Train: (cos_loss = 50377.484f0, penalty = 2821.3638, AvgMeanCos = 0.9729f0)\n",
      "Epoch: 5  Train: (cos_loss = 49865.06f0, penalty = 2821.1528, AvgMeanCos = 0.9732f0)\n"
     ]
    },
    {
     "name": "stderr",
     "output_type": "stream",
     "text": [
      "\u001b[36m\u001b[1m[ \u001b[22m\u001b[39m\u001b[36m\u001b[1mInfo: \u001b[22m\u001b[39mModel is updated in .param.velocity_model\n"
     ]
    },
    {
     "name": "stdout",
     "output_type": "stream",
     "text": [
      "Epoch: 6  Train: (cos_loss = 49374.492f0, penalty = 2820.9412, AvgMeanCos = 0.9735f0)\n",
      "Epoch: 7  Train: (cos_loss = 48889.152f0, penalty = 2820.7288, AvgMeanCos = 0.9737f0)\n",
      "Epoch: 8  Train: (cos_loss = 48393.32f0, penalty = 2820.5152, AvgMeanCos = 0.974f0)\n",
      "Epoch: 9  Train: (cos_loss = 47899.04f0, penalty = 2820.3003, AvgMeanCos = 0.9742f0)\n",
      "Epoch: 10  Train: (cos_loss = 47417.867f0, penalty = 2820.085, AvgMeanCos = 0.9745f0)\n"
     ]
    },
    {
     "name": "stderr",
     "output_type": "stream",
     "text": [
      "\u001b[36m\u001b[1m[ \u001b[22m\u001b[39m\u001b[36m\u001b[1mInfo: \u001b[22m\u001b[39mModel is updated in .param.velocity_model\n"
     ]
    },
    {
     "name": "stdout",
     "output_type": "stream",
     "text": [
      "Epoch: 11  Train: (cos_loss = 46962.457f0, penalty = 2819.8682, AvgMeanCos = 0.9748f0)\n",
      "Epoch: 12  Train: (cos_loss = 46525.254f0, penalty = 2819.6508, AvgMeanCos = 0.975f0)\n",
      "Epoch: 13  Train: (cos_loss = 46110.684f0, penalty = 2819.4325, AvgMeanCos = 0.9752f0)\n",
      "Epoch: 14  Train: (cos_loss = 45720.3f0, penalty = 2819.2142, AvgMeanCos = 0.9754f0)\n",
      "Epoch: 15  Train: (cos_loss = 45352.04f0, penalty = 2818.9945, AvgMeanCos = 0.9756f0)\n"
     ]
    },
    {
     "name": "stderr",
     "output_type": "stream",
     "text": [
      "\u001b[36m\u001b[1m[ \u001b[22m\u001b[39m\u001b[36m\u001b[1mInfo: \u001b[22m\u001b[39mModel is updated in .param.velocity_model\n"
     ]
    },
    {
     "name": "stdout",
     "output_type": "stream",
     "text": [
      "Epoch: 16  Train: (cos_loss = 45005.848f0, penalty = 2818.774, AvgMeanCos = 0.9758f0)\n",
      "Epoch: 17  Train: (cos_loss = 44682.92f0, penalty = 2818.5535, AvgMeanCos = 0.976f0)\n",
      "Epoch: 18  Train: (cos_loss = 44375.74f0, penalty = 2818.3312, AvgMeanCos = 0.9761f0)\n",
      "Epoch: 19  Train: (cos_loss = 44085.312f0, penalty = 2818.108, AvgMeanCos = 0.9763f0)\n",
      "Epoch: 20  Train: (cos_loss = 43816.71f0, penalty = 2817.8835, AvgMeanCos = 0.9764f0)\n"
     ]
    },
    {
     "name": "stderr",
     "output_type": "stream",
     "text": [
      "\u001b[36m\u001b[1m[ \u001b[22m\u001b[39m\u001b[36m\u001b[1mInfo: \u001b[22m\u001b[39mModel is updated in .param.velocity_model\n"
     ]
    },
    {
     "name": "stdout",
     "output_type": "stream",
     "text": [
      "Epoch: 21  Train: (cos_loss = 43562.305f0, penalty = 2817.6585, AvgMeanCos = 0.9766f0)\n",
      "Epoch: 22  Train: (cos_loss = 43320.035f0, penalty = 2817.432, AvgMeanCos = 0.9767f0)\n",
      "Epoch: 23  Train: (cos_loss = 43093.34f0, penalty = 2817.2052, AvgMeanCos = 0.9768f0)\n",
      "Epoch: 24  Train: (cos_loss = 42881.676f0, penalty = 2816.978, AvgMeanCos = 0.9769f0)\n",
      "Epoch: 25  Train: (cos_loss = 42682.01f0, penalty = 2816.7495, AvgMeanCos = 0.9771f0)\n"
     ]
    },
    {
     "name": "stderr",
     "output_type": "stream",
     "text": [
      "\u001b[36m\u001b[1m[ \u001b[22m\u001b[39m\u001b[36m\u001b[1mInfo: \u001b[22m\u001b[39mModel is updated in .param.velocity_model\n"
     ]
    },
    {
     "name": "stdout",
     "output_type": "stream",
     "text": [
      "Epoch: 26  Train: (cos_loss = 42491.3f0, penalty = 2816.5202, AvgMeanCos = 0.9772f0)\n",
      "Epoch: 27  Train: (cos_loss = 42313.965f0, penalty = 2816.2908, AvgMeanCos = 0.9773f0)\n",
      "Epoch: 28  Train: (cos_loss = 42148.19f0, penalty = 2816.0605, AvgMeanCos = 0.9773f0)\n",
      "Epoch: 29  Train: (cos_loss = 41991.836f0, penalty = 2815.8293, AvgMeanCos = 0.9774f0)\n",
      "Epoch: 30  Train: (cos_loss = 41845.0f0, penalty = 2815.5975, AvgMeanCos = 0.9775f0)\n"
     ]
    },
    {
     "name": "stderr",
     "output_type": "stream",
     "text": [
      "\u001b[36m\u001b[1m[ \u001b[22m\u001b[39m\u001b[36m\u001b[1mInfo: \u001b[22m\u001b[39mModel is updated in .param.velocity_model\n"
     ]
    },
    {
     "name": "stdout",
     "output_type": "stream",
     "text": [
      "Epoch: 31  Train: (cos_loss = 41708.727f0, penalty = 2815.3648, AvgMeanCos = 0.9776f0)\n",
      "Epoch: 32  Train: (cos_loss = 41574.348f0, penalty = 2815.1318, AvgMeanCos = 0.9776f0)\n",
      "Epoch: 33  Train: (cos_loss = 41446.95f0, penalty = 2814.8975, AvgMeanCos = 0.9777f0)\n",
      "Epoch: 34  Train: (cos_loss = 41326.61f0, penalty = 2814.6622, AvgMeanCos = 0.9778f0)\n",
      "Epoch: 35  Train: (cos_loss = 41210.52f0, penalty = 2814.4265, AvgMeanCos = 0.9778f0)\n"
     ]
    },
    {
     "name": "stderr",
     "output_type": "stream",
     "text": [
      "\u001b[36m\u001b[1m[ \u001b[22m\u001b[39m\u001b[36m\u001b[1mInfo: \u001b[22m\u001b[39mModel is updated in .param.velocity_model\n"
     ]
    },
    {
     "name": "stdout",
     "output_type": "stream",
     "text": [
      "Epoch: 36  Train: (cos_loss = 41098.62f0, penalty = 2814.1898, AvgMeanCos = 0.9779f0)\n",
      "Epoch: 37  Train: (cos_loss = 40992.383f0, penalty = 2813.9528, AvgMeanCos = 0.978f0)\n",
      "Epoch: 38  Train: (cos_loss = 40894.336f0, penalty = 2813.715, AvgMeanCos = 0.978f0)\n",
      "Epoch: 39  Train: (cos_loss = 40797.71f0, penalty = 2813.477, AvgMeanCos = 0.9781f0)\n",
      "Epoch: 40  Train: (cos_loss = 40703.152f0, penalty = 2813.238, AvgMeanCos = 0.9781f0)\n"
     ]
    },
    {
     "name": "stderr",
     "output_type": "stream",
     "text": [
      "\u001b[36m\u001b[1m[ \u001b[22m\u001b[39m\u001b[36m\u001b[1mInfo: \u001b[22m\u001b[39mModel is updated in .param.velocity_model\n"
     ]
    },
    {
     "name": "stdout",
     "output_type": "stream",
     "text": [
      "Epoch: 41  Train: (cos_loss = 40613.375f0, penalty = 2812.9985, AvgMeanCos = 0.9782f0)\n",
      "Epoch: 42  Train: (cos_loss = 40527.84f0, penalty = 2812.7582, AvgMeanCos = 0.9782f0)\n",
      "Epoch: 43  Train: (cos_loss = 40442.438f0, penalty = 2812.5178, AvgMeanCos = 0.9783f0)\n",
      "Epoch: 44  Train: (cos_loss = 40359.547f0, penalty = 2812.2768, AvgMeanCos = 0.9783f0)\n",
      "Epoch: 45  Train: (cos_loss = 40278.195f0, penalty = 2812.0358, AvgMeanCos = 0.9783f0)\n"
     ]
    },
    {
     "name": "stderr",
     "output_type": "stream",
     "text": [
      "\u001b[36m\u001b[1m[ \u001b[22m\u001b[39m\u001b[36m\u001b[1mInfo: \u001b[22m\u001b[39mModel is updated in .param.velocity_model\n"
     ]
    },
    {
     "name": "stdout",
     "output_type": "stream",
     "text": [
      "Epoch: 46  Train: (cos_loss = 40200.34f0, penalty = 2811.7942, AvgMeanCos = 0.9784f0)\n",
      "Epoch: 47  Train: (cos_loss = 40123.64f0, penalty = 2811.5525, AvgMeanCos = 0.9784f0)\n",
      "Epoch: 48  Train: (cos_loss = 40048.176f0, penalty = 2811.311, AvgMeanCos = 0.9785f0)\n",
      "Epoch: 49  Train: (cos_loss = 39975.73f0, penalty = 2811.069, AvgMeanCos = 0.9785f0)\n",
      "Epoch: 50  Train: (cos_loss = 39907.355f0, penalty = 2810.827, AvgMeanCos = 0.9785f0)\n"
     ]
    },
    {
     "name": "stderr",
     "output_type": "stream",
     "text": [
      "\u001b[36m\u001b[1m[ \u001b[22m\u001b[39m\u001b[36m\u001b[1mInfo: \u001b[22m\u001b[39mModel is updated in .param.velocity_model\n"
     ]
    },
    {
     "name": "stdout",
     "output_type": "stream",
     "text": [
      "Epoch: 51  Train: (cos_loss = 39839.336f0, penalty = 2810.584, AvgMeanCos = 0.9786f0)\n",
      "Epoch: 52  Train: (cos_loss = 39771.94f0, penalty = 2810.3403, AvgMeanCos = 0.9786f0)\n",
      "Epoch: 53  Train: (cos_loss = 39708.348f0, penalty = 2810.0955, AvgMeanCos = 0.9787f0)\n",
      "Epoch: 54  Train: (cos_loss = 39645.766f0, penalty = 2809.8505, AvgMeanCos = 0.9787f0)\n",
      "Epoch: 55  Train: (cos_loss = 39584.08f0, penalty = 2809.605, AvgMeanCos = 0.9787f0)\n"
     ]
    },
    {
     "name": "stderr",
     "output_type": "stream",
     "text": [
      "\u001b[36m\u001b[1m[ \u001b[22m\u001b[39m\u001b[36m\u001b[1mInfo: \u001b[22m\u001b[39mModel is updated in .param.velocity_model\n"
     ]
    },
    {
     "name": "stdout",
     "output_type": "stream",
     "text": [
      "Epoch: 56  Train: (cos_loss = 39526.258f0, penalty = 2809.3598, AvgMeanCos = 0.9787f0)\n",
      "Epoch: 57  Train: (cos_loss = 39470.164f0, penalty = 2809.114, AvgMeanCos = 0.9788f0)\n",
      "Epoch: 58  Train: (cos_loss = 39415.14f0, penalty = 2808.8678, AvgMeanCos = 0.9788f0)\n",
      "Epoch: 59  Train: (cos_loss = 39360.414f0, penalty = 2808.621, AvgMeanCos = 0.9788f0)\n",
      "Epoch: 60  Train: (cos_loss = 39308.574f0, penalty = 2808.3745, AvgMeanCos = 0.9789f0)\n"
     ]
    },
    {
     "name": "stderr",
     "output_type": "stream",
     "text": [
      "\u001b[36m\u001b[1m[ \u001b[22m\u001b[39m\u001b[36m\u001b[1mInfo: \u001b[22m\u001b[39mModel is updated in .param.velocity_model\n"
     ]
    },
    {
     "name": "stdout",
     "output_type": "stream",
     "text": [
      "Epoch: 61  Train: (cos_loss = 39257.684f0, penalty = 2808.127, AvgMeanCos = 0.9789f0)\n",
      "Epoch: 62  Train: (cos_loss = 39206.863f0, penalty = 2807.8792, AvgMeanCos = 0.9789f0)\n",
      "Epoch: 63  Train: (cos_loss = 39158.332f0, penalty = 2807.6312, AvgMeanCos = 0.9789f0)\n",
      "Epoch: 64  Train: (cos_loss = 39112.055f0, penalty = 2807.3835, AvgMeanCos = 0.979f0)\n",
      "Epoch: 65  Train: (cos_loss = 39067.074f0, penalty = 2807.1353, AvgMeanCos = 0.979f0)\n"
     ]
    },
    {
     "name": "stderr",
     "output_type": "stream",
     "text": [
      "\u001b[36m\u001b[1m[ \u001b[22m\u001b[39m\u001b[36m\u001b[1mInfo: \u001b[22m\u001b[39mModel is updated in .param.velocity_model\n"
     ]
    },
    {
     "name": "stdout",
     "output_type": "stream",
     "text": [
      "Epoch: 66  Train: (cos_loss = 39024.074f0, penalty = 2806.8862, AvgMeanCos = 0.979f0)\n",
      "Epoch: 67  Train: (cos_loss = 38981.445f0, penalty = 2806.638, AvgMeanCos = 0.979f0)\n",
      "Epoch: 68  Train: (cos_loss = 38938.895f0, penalty = 2806.3888, AvgMeanCos = 0.9791f0)\n",
      "Epoch: 69  Train: (cos_loss = 38898.39f0, penalty = 2806.1395, AvgMeanCos = 0.9791f0)\n",
      "Epoch: 70  Train: (cos_loss = 38858.156f0, penalty = 2805.8908, AvgMeanCos = 0.9791f0)\n"
     ]
    },
    {
     "name": "stderr",
     "output_type": "stream",
     "text": [
      "\u001b[36m\u001b[1m[ \u001b[22m\u001b[39m\u001b[36m\u001b[1mInfo: \u001b[22m\u001b[39mModel is updated in .param.velocity_model\n"
     ]
    },
    {
     "name": "stdout",
     "output_type": "stream",
     "text": [
      "Epoch: 71  Train: (cos_loss = 38819.33f0, penalty = 2805.6418, AvgMeanCos = 0.9791f0)\n",
      "Epoch: 72  Train: (cos_loss = 38781.312f0, penalty = 2805.392, AvgMeanCos = 0.9791f0)\n",
      "Epoch: 73  Train: (cos_loss = 38744.355f0, penalty = 2805.1428, AvgMeanCos = 0.9792f0)\n",
      "Epoch: 74  Train: (cos_loss = 38707.227f0, penalty = 2804.8932, AvgMeanCos = 0.9792f0)\n",
      "Epoch: 75  Train: (cos_loss = 38670.527f0, penalty = 2804.6432, AvgMeanCos = 0.9792f0)\n"
     ]
    },
    {
     "name": "stderr",
     "output_type": "stream",
     "text": [
      "\u001b[36m\u001b[1m[ \u001b[22m\u001b[39m\u001b[36m\u001b[1mInfo: \u001b[22m\u001b[39mModel is updated in .param.velocity_model\n"
     ]
    },
    {
     "name": "stdout",
     "output_type": "stream",
     "text": [
      "Epoch: 76  Train: (cos_loss = 38634.992f0, penalty = 2804.393, AvgMeanCos = 0.9792f0)\n",
      "Epoch: 77  Train: (cos_loss = 38601.695f0, penalty = 2804.143, AvgMeanCos = 0.9792f0)\n",
      "Epoch: 78  Train: (cos_loss = 38568.758f0, penalty = 2803.8925, AvgMeanCos = 0.9793f0)\n",
      "Epoch: 79  Train: (cos_loss = 38536.36f0, penalty = 2803.6428, AvgMeanCos = 0.9793f0)\n",
      "Epoch: 80  Train: (cos_loss = 38504.953f0, penalty = 2803.3925, AvgMeanCos = 0.9793f0)\n"
     ]
    },
    {
     "name": "stderr",
     "output_type": "stream",
     "text": [
      "\u001b[36m\u001b[1m[ \u001b[22m\u001b[39m\u001b[36m\u001b[1mInfo: \u001b[22m\u001b[39mModel is updated in .param.velocity_model\n"
     ]
    },
    {
     "name": "stdout",
     "output_type": "stream",
     "text": [
      "Epoch: 81  Train: (cos_loss = 38474.79f0, penalty = 2803.142, AvgMeanCos = 0.9793f0)\n",
      "Epoch: 82  Train: (cos_loss = 38443.72f0, penalty = 2802.8912, AvgMeanCos = 0.9793f0)\n",
      "Epoch: 83  Train: (cos_loss = 38412.88f0, penalty = 2802.6405, AvgMeanCos = 0.9793f0)\n",
      "Epoch: 84  Train: (cos_loss = 38383.18f0, penalty = 2802.389, AvgMeanCos = 0.9794f0)\n",
      "Epoch: 85  Train: (cos_loss = 38354.35f0, penalty = 2802.138, AvgMeanCos = 0.9794f0)\n"
     ]
    },
    {
     "name": "stderr",
     "output_type": "stream",
     "text": [
      "\u001b[36m\u001b[1m[ \u001b[22m\u001b[39m\u001b[36m\u001b[1mInfo: \u001b[22m\u001b[39mModel is updated in .param.velocity_model\n"
     ]
    },
    {
     "name": "stdout",
     "output_type": "stream",
     "text": [
      "Epoch: 86  Train: (cos_loss = 38326.844f0, penalty = 2801.8865, AvgMeanCos = 0.9794f0)\n",
      "Epoch: 87  Train: (cos_loss = 38300.266f0, penalty = 2801.6355, AvgMeanCos = 0.9794f0)\n",
      "Epoch: 88  Train: (cos_loss = 38273.492f0, penalty = 2801.3842, AvgMeanCos = 0.9794f0)\n",
      "Epoch: 89  Train: (cos_loss = 38247.617f0, penalty = 2801.1328, AvgMeanCos = 0.9794f0)\n",
      "Epoch: 90  Train: (cos_loss = 38223.164f0, penalty = 2800.8812, AvgMeanCos = 0.9794f0)\n"
     ]
    },
    {
     "name": "stderr",
     "output_type": "stream",
     "text": [
      "\u001b[36m\u001b[1m[ \u001b[22m\u001b[39m\u001b[36m\u001b[1mInfo: \u001b[22m\u001b[39mModel is updated in .param.velocity_model\n"
     ]
    },
    {
     "name": "stdout",
     "output_type": "stream",
     "text": [
      "Epoch: 91  Train: (cos_loss = 38198.414f0, penalty = 2800.6292, AvgMeanCos = 0.9795f0)\n",
      "Epoch: 92  Train: (cos_loss = 38173.64f0, penalty = 2800.378, AvgMeanCos = 0.9795f0)\n",
      "Epoch: 93  Train: (cos_loss = 38146.785f0, penalty = 2800.1265, AvgMeanCos = 0.9795f0)\n",
      "Epoch: 94  Train: (cos_loss = 38120.15f0, penalty = 2799.8752, AvgMeanCos = 0.9795f0)\n",
      "Epoch: 95  Train: (cos_loss = 38095.5f0, penalty = 2799.6242, AvgMeanCos = 0.9795f0)\n"
     ]
    },
    {
     "name": "stderr",
     "output_type": "stream",
     "text": [
      "\u001b[36m\u001b[1m[ \u001b[22m\u001b[39m\u001b[36m\u001b[1mInfo: \u001b[22m\u001b[39mModel is updated in .param.velocity_model\n"
     ]
    },
    {
     "name": "stdout",
     "output_type": "stream",
     "text": [
      "Epoch: 96  Train: (cos_loss = 38071.254f0, penalty = 2799.3732, AvgMeanCos = 0.9795f0)\n",
      "Epoch: 97  Train: (cos_loss = 38047.38f0, penalty = 2799.1215, AvgMeanCos = 0.9795f0)\n",
      "Epoch: 98  Train: (cos_loss = 38023.484f0, penalty = 2798.8702, AvgMeanCos = 0.9796f0)\n",
      "Epoch: 99  Train: (cos_loss = 38001.773f0, penalty = 2798.6188, AvgMeanCos = 0.9796f0)\n",
      "Epoch: 100  Train: (cos_loss = 37980.29f0, penalty = 2798.367, AvgMeanCos = 0.9796f0)\n"
     ]
    },
    {
     "name": "stderr",
     "output_type": "stream",
     "text": [
      "\u001b[36m\u001b[1m[ \u001b[22m\u001b[39m\u001b[36m\u001b[1mInfo: \u001b[22m\u001b[39mModel is updated in .param.velocity_model\n",
      "\u001b[36m\u001b[1m[ \u001b[22m\u001b[39m\u001b[36m\u001b[1mInfo: \u001b[22m\u001b[39mVelocity saved in param.velocity\n",
      "\u001b[36m\u001b[1m[ \u001b[22m\u001b[39m\u001b[36m\u001b[1mInfo: \u001b[22m\u001b[39mStart estimate pseudotime, it may take a long time.\n",
      "Generating Trajectories: 100%|\u001b[34m██████████\u001b[0m| 9810/9810 [00:00<00:00, 27013.68it/s]\u001b[0m\n"
     ]
    },
    {
     "name": "stdout",
     "output_type": "stream",
     "text": [
      "Pseudo random number generator seeds are set to:  [0, 1, 2, 3, 4]\n",
      "There are 5 clusters.\n",
      "[0 1 2 3 4]\n",
      "555.264454 seconds (2.55 G allocations: 837.074 GiB, 17.61% gc time, 4.95% compilation time: 4% of which was recompilation)\n",
      "--- 12.92528247833252 seconds ---\n"
     ]
    },
    {
     "data": {
      "text/plain": [
       "JuloVeloObject(Float32[0.0104774535 0.0010437558 … 0.0 0.011785467; 0.016443102 0.005584247 … 0.0 0.0;;; 0.0 0.0 … 0.028082076 0.0; 0.0 0.0 … 0.0 0.0;;; 0.16284437 0.02712953 … 0.2377557 0.30984747; 0.098785415 0.17051443 … 0.09148347 0.3085626;;; … ;;; 0.0 0.0 … 0.0 0.0; 0.0 0.0 … 0.0 0.0;;; 0.38308683 0.56731623 … 0.29098058 0.5570557; 0.27162063 0.44800663 … 0.3552399 0.52735335;;; 0.09206911 0.10537342 … 0.08373533 0.07603849; 0.09038578 0.078303486 … 0.09812895 0.14859428], nothing, Float32[0.0104774535 0.0010437558 … 0.0 0.011785467; 0.0 0.0 … 0.028082076 0.0; … ; 0.18712996 0.3706687 … 0.20170364 0.12776697; 0.18689686 0.14775297 … 0.12487783 0.15213872], Float32[0.016443102 0.005584247 … 0.0 0.0; 0.0 0.0 … 0.0 0.0; … ; 0.13254894 0.0 … 0.0 0.0; 0.2700543 0.051327653 … 0.084827535 0.1823766], nothing, Float32[0.0104774535 0.0010437558 … 0.0 0.011785467; 0.0 0.0 … 0.028082076 0.0; … ; 0.38308683 0.56731623 … 0.29098058 0.5570557; 0.09206911 0.10537342 … 0.08373533 0.07603849], Float32[0.016443102 0.005584247 … 0.0 0.0; 0.0 0.0 … 0.0 0.0; … ; 0.27162063 0.44800663 … 0.3552399 0.52735335; 0.09038578 0.078303486 … 0.09812895 0.14859428], nothing, Float32[0.0104774535 0.0010437558 … 0.0 0.011785467; 0.0 0.0 … 0.028082076 0.0; … ; 0.38308683 0.56731623 … 0.29098058 0.5570557; 0.09206911 0.10537342 … 0.08373533 0.07603849], Float32[0.016443102 0.005584247 … 0.0 0.0; 0.0 0.0 … 0.0 0.0; … ; 0.27162063 0.44800663 … 0.3552399 0.52735335; 0.09038578 0.078303486 … 0.09812895 0.14859428], Float32[0.53742075 0.03987745 … 0.057047773 0.37228855; 0.6720437 0.2411396 … 0.14505802 0.20755629;;; 0.793953 0.39479622 … 0.4398294 0.5362078; 0.32447833 0.0 … 0.21451537 0.16499566;;; 0.609383 0.6281752 … 0.16321011 0.11491826; 0.14183575 0.06769536 … 0.20788832 0.04380942;;; … ;;; 0.75016934 0.5488847 … 0.14652048 0.25512782; 0.41235667 0.508853 … 0.0 0.2819881;;; 0.27747637 0.66107345 … 0.07277624 0.604937; 0.6889693 0.29230145 … 0.034055077 0.50064427;;; 0.37392667 0.9106435 … 0.07358052 0.13958643; 0.31059533 0.21608463 … 0.102051385 0.09155801], [\"circle\", \"circle\", \"induction\", \"induction\", \"induction\", \"induction\", \"circle\", \"induction\", \"circle\", \"circle\"  …  \"circle\", \"induction\", \"induction\", \"induction\", \"circle\", \"circle\", \"induction\", \"induction\", \"circle\", \"circle\"], 2000, [\"Rgs20\", \"Eya1\", \"Mcm3\", \"Ogfrl1\", \"Smap1\", \"Col19a1\", \"2010300C02Rik\", \"Creg2\", \"Pantr1\", \"Fhl2\"  …  \"Dach2\", \"Pcdh11x\", \"Cstf2\", \"Col4a5\", \"Sh3kbp1\", \"Pir\", \"Gpm6b\", \"Uty\", \"Kdm5d\", \"Erdr1\"], [\"Rgs20\", \"Eya1\", \"Ogfrl1\", \"Col19a1\", \"2010300C02Rik\", \"Creg2\", \"Pantr1\", \"Stk17b\", \"Rftn2\", \"Acadl\"  …  \"Glra2\", \"Syp\", \"Tspan7\", \"Mamld1\", \"Tmem47\", \"Kif4\", \"Pcdh11x\", \"Col4a5\", \"Sh3kbp1\", \"Gpm6b\"], [\"Rgs20\", \"Eya1\", \"Ogfrl1\", \"Col19a1\", \"2010300C02Rik\", \"Creg2\", \"Pantr1\", \"Stk17b\", \"Rftn2\", \"Epha4\"  …  \"Amot\", \"Glra2\", \"Syp\", \"Tspan7\", \"Tmem47\", \"Kif4\", \"Pcdh11x\", \"Col4a5\", \"Sh3kbp1\", \"Gpm6b\"], 775, [\"Mcm3\", \"Smap1\", \"Fhl2\", \"Tex30\", \"Col5a2\", \"1700019D03Rik\", \"Satb2\", \"Ino80d\", \"Klf7\", \"Kansl1l\"  …  \"Dmd\", \"Msn\", \"Igbp1\", \"Jpx\", \"Dach2\", \"Cstf2\", \"Pir\", \"Uty\", \"Kdm5d\", \"Erdr1\"], [\"Acadl\", \"Gulp1\", \"Plcd4\", \"Efhd1\", \"4930523C07Rik\", \"Ccdc190\", \"Tagln2\", \"Hmg20b\", \"Appl2\", \"Meis1\"  …  \"Fkbp9\", \"Axl\", \"Fam53b\", \"RP23-207N5.2\", \"Dock1\", \"Fat1\", \"Pdlim3\", \"Vegfc\", \"Col4a6\", \"Mamld1\"], 18213, Float32[0.73115015, 0.75012684, 0.8360916, 0.76156706, 0.76504284, 0.07096866, 0.78579235, 0.7637815, 0.79717857, 0.19644418  …  0.75191355, 0.7246566, 0.6731308, 0.1445432, 0.3974582, 0.71429014, 0.9439106, 0.27595344, 0.72270703, 0.7288759], [\"8\", \"8\", \"9\", \"6\", \"6\", \"11\", \"5\", \"9\", \"6\", \"11\"  …  \"8\", \"0\", \"1\", \"2\", \"3\", \"0\", \"4\", \"11\", \"0\", \"0\"], \"2\", [18.9310862639667 -1.86242872098174; 18.4198905284227 -1.28289536323409; … ; 16.3941993654985 -6.14354946579151; 17.4908566911953 -4.13019008612799], [\"ImmGranule2\", \"ImmGranule2\", \"CA2-3-4\", \"CA\", \"CA1-Sub\", \"Nbl1\", \"CA\", \"CA\", \"CA1-Sub\", \"nIPC\"  …  \"ImmGranule2\", \"ImmGranule2\", \"ImmGranule1\", \"RadialGlia\", \"ImmAstro\", \"ImmGranule1\", \"CA2-3-4\", \"nIPC\", \"ImmGranule2\", \"ImmGranule2\"], \"gex\", Dict{String, Any}(\"velocity_embedding\" => Union{Missing, Float64}[missing missing; missing missing; … ; missing missing; missing missing], \"velocity_model\" => Chain(l1 = SpatialDense(2 => 100, depth = 775, leakyrelu), l2 = SpatialDense(100 => 100, depth = 775, leakyrelu), l3 = SpatialDense(100 => 3, depth = 775, σ)), \"JuloVelo_pseudotime\" => [0.9547295817823516, 0.9455696664477045, 0.607200204364645, 0.4267389241661192, 0.4506970294139113, 0.016130209473761023, 0.4619735785709072, 0.5435369681045179, 0.5494671921757536, 0.01260856871761185  …  0.9706773228231514, 0.939511714473396, 0.5921465586453543, 0.3168564338369461, 0.752007152762572, 0.7206043354499672, 0.9162104955842639, 0.12938836581271437, 0.8875629516093716, 0.9271038610320415], \"PCA_model\" => nothing, \"kinetics\" => Float32[0.01282364 0.01494639 … 0.029750656 0.061746184; 0.66373014 0.66322786 … 0.664238 0.6621338; 0.7084454 0.7079809 … 0.70708764 0.7060697;;; 0.038551442 0.038551442 … 0.106006116 0.038551405; 0.65940595 0.65940595 … 0.6586151 0.65940595; 0.7211333 0.7211333 … 0.7197068 0.72113335;;; 0.08662164 0.037783623 … 0.13490821 0.12914021; 0.7402215 0.9040117 … 0.7456109 0.69758314; 0.7068464 0.023552282 … 0.71140146 0.6347328;;; … ;;; 0.040435977 0.040435977 … 0.040435977 0.040435966; 0.6329446 0.6329446 … 0.6329446 0.63294506; 0.6321004 0.6321004 … 0.6321004 0.63210064;;; 0.22304615 0.21258572 … 1.7745995f-5 0.16540474; 0.7102775 0.7265016 … 0.69590735 0.7253426; 0.70319235 0.70112514 … 0.7150202 0.70289326;;; 0.083030246 0.09825021 … 0.044914763 8.792971f-6; 0.6284641 0.629001 … 0.6310188 0.62023056; 0.7660312 0.76592356 … 0.7676738 0.77243674], \"velocity\" => Float32[0.009346658 0.014600385 … 0.029750776 0.057844523; -0.0023473003 -0.001630527 … 1.1920929f-7 0.0039018975;;; 0.03855156 0.03855156 … 0.0967586 0.038551524; 1.1920929f-7 1.1920929f-7 … 0.009247759 1.1920929f-7;;; 0.026351307 0.025521036 … 0.04627171 0.021068148; 0.025357515 0.010254824 … 0.056096006 0.010144904;;; … ;;; 0.040436096 0.040436096 … 0.040436096 0.040436085; 1.1920929f-7 1.1920929f-7 … 1.1920929f-7 1.1920929f-7;;; 0.0869973 0.006507769 … -0.1012299 -0.036623254; 0.040548317 0.049023837 … -0.025753967 0.01669167;;; 0.0540993 0.06511034 … 0.018495597 -0.023571784; -0.005687978 0.0031528696 … -0.0112461075 -0.03380902]))"
      ]
     },
     "execution_count": 6,
     "metadata": {},
     "output_type": "execute_result"
    }
   ],
   "source": [
    "@time benchmark()"
   ]
  },
  {
   "cell_type": "code",
   "execution_count": null,
   "id": "8e8986d5-c0b5-47e6-aa04-2c3df10ae890",
   "metadata": {},
   "outputs": [],
   "source": []
  }
 ],
 "metadata": {
  "kernelspec": {
   "display_name": "Julia 1.10.0",
   "language": "julia",
   "name": "julia-1.10"
  },
  "language_info": {
   "file_extension": ".jl",
   "mimetype": "application/julia",
   "name": "julia",
   "version": "1.10.0"
  }
 },
 "nbformat": 4,
 "nbformat_minor": 5
}

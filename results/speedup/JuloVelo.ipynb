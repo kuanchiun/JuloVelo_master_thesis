{
 "cells": [
  {
   "cell_type": "code",
   "execution_count": 1,
   "id": "4b49ae76-f5a6-4a4a-83d9-f54a6e6b8e27",
   "metadata": {},
   "outputs": [],
   "source": [
    "using Pkg"
   ]
  },
  {
   "cell_type": "code",
   "execution_count": 2,
   "id": "d16e2f90-9eb2-437f-a8a1-edfe4a08fb44",
   "metadata": {},
   "outputs": [
    {
     "data": {
      "text/plain": [
       "\"/home/tung/anaconda3/envs/celldancer/bin/python3\""
      ]
     },
     "execution_count": 2,
     "metadata": {},
     "output_type": "execute_result"
    }
   ],
   "source": [
    "ENV[\"PYTHON\"] = \"/home/tung/anaconda3/envs/celldancer/bin/python3\""
   ]
  },
  {
   "cell_type": "code",
   "execution_count": 3,
   "id": "34133fe9-7377-4f89-94a7-2192c510db4c",
   "metadata": {},
   "outputs": [
    {
     "name": "stderr",
     "output_type": "stream",
     "text": [
      "\u001b[32m\u001b[1m    Building\u001b[22m\u001b[39m Conda ─→ `~/.julia/scratchspaces/44cfe95a-1eb2-52ea-b672-e2afdf69b78f/b19db3927f0db4151cb86d073689f2428e524576/build.log`\n",
      "\u001b[32m\u001b[1m    Building\u001b[22m\u001b[39m PyCall → `~/.julia/scratchspaces/44cfe95a-1eb2-52ea-b672-e2afdf69b78f/9816a3826b0ebf49ab4926e2b18842ad8b5c8f04/build.log`\n"
     ]
    }
   ],
   "source": [
    "Pkg.build(\"PyCall\")"
   ]
  },
  {
   "cell_type": "code",
   "execution_count": 4,
   "id": "e6291cb8-6a37-4617-b353-c2ff00b19bef",
   "metadata": {},
   "outputs": [],
   "source": [
    "using JuloVelo\n",
    "using Plots"
   ]
  },
  {
   "cell_type": "code",
   "execution_count": 5,
   "id": "4cb85249-421e-4153-a22d-5f458f55967a",
   "metadata": {},
   "outputs": [
    {
     "data": {
      "text/plain": [
       "benchmark (generic function with 1 method)"
      ]
     },
     "execution_count": 5,
     "metadata": {},
     "output_type": "execute_result"
    }
   ],
   "source": [
    "function benchmark()\n",
    "    adata = read_adata(\"data/JuloVelo_pre.h5ad\")\n",
    "    adata.uns[\"iroot\"] = 2\n",
    "\n",
    "    normalize(adata)\n",
    "\n",
    "    filter_and_gene_kinetics_predetermination(adata)\n",
    "\n",
    "    reshape_data(adata)\n",
    "\n",
    "    Kinetics = build_velocity_model(adata)\n",
    "\n",
    "    density_sampling(adata)\n",
    "\n",
    "    train(adata, Kinetics)\n",
    "\n",
    "    velocity_estimation(adata, Kinetics)\n",
    "\n",
    "    compute_cell_velocity(adata; basis = \"tsne\", pipeline_type = \"cellDancer\")\n",
    "\n",
    "    estimate_pseudotime(adata, 3, n_repeat = 5; basis = \"tsne\")\n",
    "end"
   ]
  },
  {
   "cell_type": "code",
   "execution_count": 6,
   "id": "cd4f1eea-5e58-4620-97fb-1cb7cfad0eb1",
   "metadata": {},
   "outputs": [
    {
     "name": "stderr",
     "output_type": "stream",
     "text": [
      "\u001b[36m\u001b[1m[ \u001b[22m\u001b[39m\u001b[36m\u001b[1mInfo: \u001b[22m\u001b[39m1172 genes are filtered due to low correlation between norm_u and norm_s\n",
      "\u001b[36m\u001b[1m[ \u001b[22m\u001b[39m\u001b[36m\u001b[1mInfo: \u001b[22m\u001b[39mSee adata.var[!, \"bad_correlation_genes\"] for details\n",
      "\u001b[36m\u001b[1m[ \u001b[22m\u001b[39m\u001b[36m\u001b[1mInfo: \u001b[22m\u001b[39m53 genes are filtered due to bad kinetics\n",
      "\u001b[36m\u001b[1m[ \u001b[22m\u001b[39m\u001b[36m\u001b[1mInfo: \u001b[22m\u001b[39mSee adata.var[!, \"bad_kinetics_genes\"] for details\n",
      "\u001b[36m\u001b[1m[ \u001b[22m\u001b[39m\u001b[36m\u001b[1mInfo: \u001b[22m\u001b[39m775 genes are used to infer velocity\n",
      "\u001b[36m\u001b[1m[ \u001b[22m\u001b[39m\u001b[36m\u001b[1mInfo: \u001b[22m\u001b[39mSee adata.var[!, \"train_genes\"] for details\n",
      "\u001b[36m\u001b[1m[ \u001b[22m\u001b[39m\u001b[36m\u001b[1mInfo: \u001b[22m\u001b[39mData is reshaped to (2, 18213, 775)\n",
      "\u001b[36m\u001b[1m[ \u001b[22m\u001b[39m\u001b[36m\u001b[1mInfo: \u001b[22m\u001b[39mSuccessfully initialize velocity model\n",
      "\u001b[36m\u001b[1m[ \u001b[22m\u001b[39m\u001b[36m\u001b[1mInfo: \u001b[22m\u001b[39mSample 2400 cells\n",
      "\u001b[36m\u001b[1m[ \u001b[22m\u001b[39m\u001b[36m\u001b[1mInfo: \u001b[22m\u001b[39mTraining on gpu\n",
      "\u001b[36m\u001b[1m[ \u001b[22m\u001b[39m\u001b[36m\u001b[1mInfo: \u001b[22m\u001b[39mTraining with Adam Optimizer\n",
      "\u001b[36m\u001b[1m[ \u001b[22m\u001b[39m\u001b[36m\u001b[1mInfo: \u001b[22m\u001b[39mTensorBoard logging at \"/media/data/bmi111/KuanChiun/JuloVelo/thesis/results/speedup/saves/\"\n",
      "\u001b[36m\u001b[1m[ \u001b[22m\u001b[39m\u001b[36m\u001b[1mInfo: \u001b[22m\u001b[39mStart training\n"
     ]
    },
    {
     "name": "stdout",
     "output_type": "stream",
     "text": [
      "Epoch: 0  Train: (cos_loss = 53020.625f0, penalty = 2822.1973f0, AvgMeanCos = 0.9715f0)\n",
      "Epoch: 1  Train: (cos_loss = 52269.336f0, penalty = 2821.9895f0, AvgMeanCos = 0.9719f0)\n",
      "Epoch: 2  Train: (cos_loss = 51605.4f0, penalty = 2821.7817f0, AvgMeanCos = 0.9723f0)\n",
      "Epoch: 3  Train: (cos_loss = 51005.285f0, penalty = 2821.573f0, AvgMeanCos = 0.9726f0)\n",
      "Epoch: 4  Train: (cos_loss = 50451.95f0, penalty = 2821.3625f0, AvgMeanCos = 0.9729f0)\n",
      "Epoch: 5  Train: (cos_loss = 49941.117f0, penalty = 2821.152f0, AvgMeanCos = 0.9732f0)\n"
     ]
    },
    {
     "name": "stderr",
     "output_type": "stream",
     "text": [
      "\u001b[36m\u001b[1m[ \u001b[22m\u001b[39m\u001b[36m\u001b[1mInfo: \u001b[22m\u001b[39mModel is saved in saves/Kinetics.bson\n"
     ]
    },
    {
     "name": "stdout",
     "output_type": "stream",
     "text": [
      "Epoch: 6  Train: (cos_loss = 49447.676f0, penalty = 2820.9404f0, AvgMeanCos = 0.9734f0)\n",
      "Epoch: 7  Train: (cos_loss = 48960.34f0, penalty = 2820.727f0, AvgMeanCos = 0.9737f0)\n",
      "Epoch: 8  Train: (cos_loss = 48462.133f0, penalty = 2820.5132f0, AvgMeanCos = 0.9739f0)\n",
      "Epoch: 9  Train: (cos_loss = 47962.38f0, penalty = 2820.2974f0, AvgMeanCos = 0.9742f0)\n",
      "Epoch: 10  Train: (cos_loss = 47474.57f0, penalty = 2820.0818f0, AvgMeanCos = 0.9745f0)\n"
     ]
    },
    {
     "name": "stderr",
     "output_type": "stream",
     "text": [
      "\u001b[36m\u001b[1m[ \u001b[22m\u001b[39m\u001b[36m\u001b[1mInfo: \u001b[22m\u001b[39mModel is saved in saves/Kinetics.bson\n"
     ]
    },
    {
     "name": "stdout",
     "output_type": "stream",
     "text": [
      "Epoch: 11  Train: (cos_loss = 47011.09f0, penalty = 2819.8652f0, AvgMeanCos = 0.9747f0)\n",
      "Epoch: 12  Train: (cos_loss = 46569.812f0, penalty = 2819.6475f0, AvgMeanCos = 0.975f0)\n",
      "Epoch: 13  Train: (cos_loss = 46158.26f0, penalty = 2819.43f0, AvgMeanCos = 0.9752f0)\n",
      "Epoch: 14  Train: (cos_loss = 45768.47f0, penalty = 2819.2117f0, AvgMeanCos = 0.9754f0)\n",
      "Epoch: 15  Train: (cos_loss = 45401.49f0, penalty = 2818.9922f0, AvgMeanCos = 0.9756f0)\n"
     ]
    },
    {
     "name": "stderr",
     "output_type": "stream",
     "text": [
      "\u001b[36m\u001b[1m[ \u001b[22m\u001b[39m\u001b[36m\u001b[1mInfo: \u001b[22m\u001b[39mModel is saved in saves/Kinetics.bson\n"
     ]
    },
    {
     "name": "stdout",
     "output_type": "stream",
     "text": [
      "Epoch: 16  Train: (cos_loss = 45055.742f0, penalty = 2818.7725f0, AvgMeanCos = 0.9758f0)\n",
      "Epoch: 17  Train: (cos_loss = 44728.73f0, penalty = 2818.5525f0, AvgMeanCos = 0.976f0)\n",
      "Epoch: 18  Train: (cos_loss = 44423.273f0, penalty = 2818.3313f0, AvgMeanCos = 0.9761f0)\n",
      "Epoch: 19  Train: (cos_loss = 44136.176f0, penalty = 2818.1099f0, AvgMeanCos = 0.9763f0)\n",
      "Epoch: 20  Train: (cos_loss = 43867.105f0, penalty = 2817.8882f0, AvgMeanCos = 0.9764f0)\n"
     ]
    },
    {
     "name": "stderr",
     "output_type": "stream",
     "text": [
      "\u001b[36m\u001b[1m[ \u001b[22m\u001b[39m\u001b[36m\u001b[1mInfo: \u001b[22m\u001b[39mModel is saved in saves/Kinetics.bson\n"
     ]
    },
    {
     "name": "stdout",
     "output_type": "stream",
     "text": [
      "Epoch: 21  Train: (cos_loss = 43616.734f0, penalty = 2817.665f0, AvgMeanCos = 0.9766f0)\n",
      "Epoch: 22  Train: (cos_loss = 43383.703f0, penalty = 2817.4412f0, AvgMeanCos = 0.9767f0)\n",
      "Epoch: 23  Train: (cos_loss = 43164.355f0, penalty = 2817.2166f0, AvgMeanCos = 0.9768f0)\n",
      "Epoch: 24  Train: (cos_loss = 42959.496f0, penalty = 2816.9907f0, AvgMeanCos = 0.9769f0)\n",
      "Epoch: 25  Train: (cos_loss = 42765.348f0, penalty = 2816.7637f0, AvgMeanCos = 0.977f0)\n"
     ]
    },
    {
     "name": "stderr",
     "output_type": "stream",
     "text": [
      "\u001b[36m\u001b[1m[ \u001b[22m\u001b[39m\u001b[36m\u001b[1mInfo: \u001b[22m\u001b[39mModel is saved in saves/Kinetics.bson\n"
     ]
    },
    {
     "name": "stdout",
     "output_type": "stream",
     "text": [
      "Epoch: 26  Train: (cos_loss = 42579.69f0, penalty = 2816.5356f0, AvgMeanCos = 0.9771f0)\n",
      "Epoch: 27  Train: (cos_loss = 42408.15f0, penalty = 2816.3071f0, AvgMeanCos = 0.9772f0)\n",
      "Epoch: 28  Train: (cos_loss = 42245.39f0, penalty = 2816.0781f0, AvgMeanCos = 0.9773f0)\n",
      "Epoch: 29  Train: (cos_loss = 42091.81f0, penalty = 2815.8486f0, AvgMeanCos = 0.9774f0)\n",
      "Epoch: 30  Train: (cos_loss = 41942.76f0, penalty = 2815.6184f0, AvgMeanCos = 0.9775f0)\n"
     ]
    },
    {
     "name": "stderr",
     "output_type": "stream",
     "text": [
      "\u001b[36m\u001b[1m[ \u001b[22m\u001b[39m\u001b[36m\u001b[1mInfo: \u001b[22m\u001b[39mModel is saved in saves/Kinetics.bson\n"
     ]
    },
    {
     "name": "stdout",
     "output_type": "stream",
     "text": [
      "Epoch: 31  Train: (cos_loss = 41803.094f0, penalty = 2815.388f0, AvgMeanCos = 0.9775f0)\n",
      "Epoch: 32  Train: (cos_loss = 41671.086f0, penalty = 2815.1565f0, AvgMeanCos = 0.9776f0)\n",
      "Epoch: 33  Train: (cos_loss = 41546.117f0, penalty = 2814.924f0, AvgMeanCos = 0.9777f0)\n",
      "Epoch: 34  Train: (cos_loss = 41425.598f0, penalty = 2814.6914f0, AvgMeanCos = 0.9777f0)\n",
      "Epoch: 35  Train: (cos_loss = 41308.26f0, penalty = 2814.4575f0, AvgMeanCos = 0.9778f0)\n"
     ]
    },
    {
     "name": "stderr",
     "output_type": "stream",
     "text": [
      "\u001b[36m\u001b[1m[ \u001b[22m\u001b[39m\u001b[36m\u001b[1mInfo: \u001b[22m\u001b[39mModel is saved in saves/Kinetics.bson\n"
     ]
    },
    {
     "name": "stdout",
     "output_type": "stream",
     "text": [
      "Epoch: 36  Train: (cos_loss = 41196.43f0, penalty = 2814.223f0, AvgMeanCos = 0.9779f0)\n",
      "Epoch: 37  Train: (cos_loss = 41087.445f0, penalty = 2813.988f0, AvgMeanCos = 0.9779f0)\n",
      "Epoch: 38  Train: (cos_loss = 40982.54f0, penalty = 2813.7527f0, AvgMeanCos = 0.978f0)\n",
      "Epoch: 39  Train: (cos_loss = 40883.67f0, penalty = 2813.5168f0, AvgMeanCos = 0.978f0)\n",
      "Epoch: 40  Train: (cos_loss = 40786.375f0, penalty = 2813.28f0, AvgMeanCos = 0.9781f0)\n"
     ]
    },
    {
     "name": "stderr",
     "output_type": "stream",
     "text": [
      "\u001b[36m\u001b[1m[ \u001b[22m\u001b[39m\u001b[36m\u001b[1mInfo: \u001b[22m\u001b[39mModel is saved in saves/Kinetics.bson\n"
     ]
    },
    {
     "name": "stdout",
     "output_type": "stream",
     "text": [
      "Epoch: 41  Train: (cos_loss = 40694.605f0, penalty = 2813.0435f0, AvgMeanCos = 0.9781f0)\n",
      "Epoch: 42  Train: (cos_loss = 40606.215f0, penalty = 2812.8052f0, AvgMeanCos = 0.9782f0)\n",
      "Epoch: 43  Train: (cos_loss = 40521.22f0, penalty = 2812.5671f0, AvgMeanCos = 0.9782f0)\n",
      "Epoch: 44  Train: (cos_loss = 40439.773f0, penalty = 2812.3289f0, AvgMeanCos = 0.9783f0)\n",
      "Epoch: 45  Train: (cos_loss = 40359.863f0, penalty = 2812.0896f0, AvgMeanCos = 0.9783f0)\n"
     ]
    },
    {
     "name": "stderr",
     "output_type": "stream",
     "text": [
      "\u001b[36m\u001b[1m[ \u001b[22m\u001b[39m\u001b[36m\u001b[1mInfo: \u001b[22m\u001b[39mModel is saved in saves/Kinetics.bson\n"
     ]
    },
    {
     "name": "stdout",
     "output_type": "stream",
     "text": [
      "Epoch: 46  Train: (cos_loss = 40284.21f0, penalty = 2811.8499f0, AvgMeanCos = 0.9783f0)\n",
      "Epoch: 47  Train: (cos_loss = 40211.266f0, penalty = 2811.6106f0, AvgMeanCos = 0.9784f0)\n",
      "Epoch: 48  Train: (cos_loss = 40142.867f0, penalty = 2811.3704f0, AvgMeanCos = 0.9784f0)\n",
      "Epoch: 49  Train: (cos_loss = 40075.062f0, penalty = 2811.13f0, AvgMeanCos = 0.9785f0)\n",
      "Epoch: 50  Train: (cos_loss = 40009.094f0, penalty = 2810.889f0, AvgMeanCos = 0.9785f0)\n"
     ]
    },
    {
     "name": "stderr",
     "output_type": "stream",
     "text": [
      "\u001b[36m\u001b[1m[ \u001b[22m\u001b[39m\u001b[36m\u001b[1mInfo: \u001b[22m\u001b[39mModel is saved in saves/Kinetics.bson\n"
     ]
    },
    {
     "name": "stdout",
     "output_type": "stream",
     "text": [
      "Epoch: 51  Train: (cos_loss = 39946.61f0, penalty = 2810.6472f0, AvgMeanCos = 0.9785f0)\n",
      "Epoch: 52  Train: (cos_loss = 39885.312f0, penalty = 2810.4045f0, AvgMeanCos = 0.9786f0)\n",
      "Epoch: 53  Train: (cos_loss = 39825.42f0, penalty = 2810.1624f0, AvgMeanCos = 0.9786f0)\n",
      "Epoch: 54  Train: (cos_loss = 39765.234f0, penalty = 2809.9194f0, AvgMeanCos = 0.9786f0)\n",
      "Epoch: 55  Train: (cos_loss = 39708.85f0, penalty = 2809.6763f0, AvgMeanCos = 0.9787f0)\n"
     ]
    },
    {
     "name": "stderr",
     "output_type": "stream",
     "text": [
      "\u001b[36m\u001b[1m[ \u001b[22m\u001b[39m\u001b[36m\u001b[1mInfo: \u001b[22m\u001b[39mModel is saved in saves/Kinetics.bson\n"
     ]
    },
    {
     "name": "stdout",
     "output_type": "stream",
     "text": [
      "Epoch: 56  Train: (cos_loss = 39653.93f0, penalty = 2809.4333f0, AvgMeanCos = 0.9787f0)\n",
      "Epoch: 57  Train: (cos_loss = 39601.273f0, penalty = 2809.1897f0, AvgMeanCos = 0.9787f0)\n",
      "Epoch: 58  Train: (cos_loss = 39549.13f0, penalty = 2808.9465f0, AvgMeanCos = 0.9787f0)\n",
      "Epoch: 59  Train: (cos_loss = 39494.723f0, penalty = 2808.703f0, AvgMeanCos = 0.9788f0)\n",
      "Epoch: 60  Train: (cos_loss = 39441.145f0, penalty = 2808.4597f0, AvgMeanCos = 0.9788f0)\n"
     ]
    },
    {
     "name": "stderr",
     "output_type": "stream",
     "text": [
      "\u001b[36m\u001b[1m[ \u001b[22m\u001b[39m\u001b[36m\u001b[1mInfo: \u001b[22m\u001b[39mModel is saved in saves/Kinetics.bson\n"
     ]
    },
    {
     "name": "stdout",
     "output_type": "stream",
     "text": [
      "Epoch: 61  Train: (cos_loss = 39393.01f0, penalty = 2808.2156f0, AvgMeanCos = 0.9788f0)\n",
      "Epoch: 62  Train: (cos_loss = 39346.93f0, penalty = 2807.9714f0, AvgMeanCos = 0.9788f0)\n",
      "Epoch: 63  Train: (cos_loss = 39299.117f0, penalty = 2807.7268f0, AvgMeanCos = 0.9789f0)\n",
      "Epoch: 64  Train: (cos_loss = 39253.89f0, penalty = 2807.482f0, AvgMeanCos = 0.9789f0)\n",
      "Epoch: 65  Train: (cos_loss = 39209.41f0, penalty = 2807.2368f0, AvgMeanCos = 0.9789f0)\n"
     ]
    },
    {
     "name": "stderr",
     "output_type": "stream",
     "text": [
      "\u001b[36m\u001b[1m[ \u001b[22m\u001b[39m\u001b[36m\u001b[1mInfo: \u001b[22m\u001b[39mModel is saved in saves/Kinetics.bson\n"
     ]
    },
    {
     "name": "stdout",
     "output_type": "stream",
     "text": [
      "Epoch: 66  Train: (cos_loss = 39165.426f0, penalty = 2806.9915f0, AvgMeanCos = 0.9789f0)\n",
      "Epoch: 67  Train: (cos_loss = 39122.715f0, penalty = 2806.7456f0, AvgMeanCos = 0.979f0)\n",
      "Epoch: 68  Train: (cos_loss = 39081.383f0, penalty = 2806.4995f0, AvgMeanCos = 0.979f0)\n",
      "Epoch: 69  Train: (cos_loss = 39041.324f0, penalty = 2806.2542f0, AvgMeanCos = 0.979f0)\n",
      "Epoch: 70  Train: (cos_loss = 39001.367f0, penalty = 2806.0078f0, AvgMeanCos = 0.979f0)\n"
     ]
    },
    {
     "name": "stderr",
     "output_type": "stream",
     "text": [
      "\u001b[36m\u001b[1m[ \u001b[22m\u001b[39m\u001b[36m\u001b[1mInfo: \u001b[22m\u001b[39mModel is saved in saves/Kinetics.bson\n"
     ]
    },
    {
     "name": "stdout",
     "output_type": "stream",
     "text": [
      "Epoch: 71  Train: (cos_loss = 38961.016f0, penalty = 2805.762f0, AvgMeanCos = 0.9791f0)\n",
      "Epoch: 72  Train: (cos_loss = 38921.934f0, penalty = 2805.516f0, AvgMeanCos = 0.9791f0)\n",
      "Epoch: 73  Train: (cos_loss = 38884.547f0, penalty = 2805.2698f0, AvgMeanCos = 0.9791f0)\n",
      "Epoch: 74  Train: (cos_loss = 38846.55f0, penalty = 2805.023f0, AvgMeanCos = 0.9791f0)\n",
      "Epoch: 75  Train: (cos_loss = 38810.766f0, penalty = 2804.776f0, AvgMeanCos = 0.9791f0)\n"
     ]
    },
    {
     "name": "stderr",
     "output_type": "stream",
     "text": [
      "\u001b[36m\u001b[1m[ \u001b[22m\u001b[39m\u001b[36m\u001b[1mInfo: \u001b[22m\u001b[39mModel is saved in saves/Kinetics.bson\n"
     ]
    },
    {
     "name": "stdout",
     "output_type": "stream",
     "text": [
      "Epoch: 76  Train: (cos_loss = 38775.52f0, penalty = 2804.5288f0, AvgMeanCos = 0.9792f0)\n",
      "Epoch: 77  Train: (cos_loss = 38740.58f0, penalty = 2804.2825f0, AvgMeanCos = 0.9792f0)\n",
      "Epoch: 78  Train: (cos_loss = 38707.71f0, penalty = 2804.035f0, AvgMeanCos = 0.9792f0)\n",
      "Epoch: 79  Train: (cos_loss = 38675.207f0, penalty = 2803.7878f0, AvgMeanCos = 0.9792f0)\n",
      "Epoch: 80  Train: (cos_loss = 38642.492f0, penalty = 2803.5403f0, AvgMeanCos = 0.9792f0)\n"
     ]
    },
    {
     "name": "stderr",
     "output_type": "stream",
     "text": [
      "\u001b[36m\u001b[1m[ \u001b[22m\u001b[39m\u001b[36m\u001b[1mInfo: \u001b[22m\u001b[39mModel is saved in saves/Kinetics.bson\n"
     ]
    },
    {
     "name": "stdout",
     "output_type": "stream",
     "text": [
      "Epoch: 81  Train: (cos_loss = 38610.375f0, penalty = 2803.293f0, AvgMeanCos = 0.9792f0)\n",
      "Epoch: 82  Train: (cos_loss = 38579.43f0, penalty = 2803.0452f0, AvgMeanCos = 0.9793f0)\n",
      "Epoch: 83  Train: (cos_loss = 38548.84f0, penalty = 2802.797f0, AvgMeanCos = 0.9793f0)\n",
      "Epoch: 84  Train: (cos_loss = 38519.098f0, penalty = 2802.5486f0, AvgMeanCos = 0.9793f0)\n",
      "Epoch: 85  Train: (cos_loss = 38488.43f0, penalty = 2802.3008f0, AvgMeanCos = 0.9793f0)\n"
     ]
    },
    {
     "name": "stderr",
     "output_type": "stream",
     "text": [
      "\u001b[36m\u001b[1m[ \u001b[22m\u001b[39m\u001b[36m\u001b[1mInfo: \u001b[22m\u001b[39mModel is saved in saves/Kinetics.bson\n"
     ]
    },
    {
     "name": "stdout",
     "output_type": "stream",
     "text": [
      "Epoch: 86  Train: (cos_loss = 38459.67f0, penalty = 2802.052f0, AvgMeanCos = 0.9793f0)\n",
      "Epoch: 87  Train: (cos_loss = 38430.594f0, penalty = 2801.803f0, AvgMeanCos = 0.9793f0)\n",
      "Epoch: 88  Train: (cos_loss = 38402.434f0, penalty = 2801.5547f0, AvgMeanCos = 0.9794f0)\n",
      "Epoch: 89  Train: (cos_loss = 38374.133f0, penalty = 2801.306f0, AvgMeanCos = 0.9794f0)\n",
      "Epoch: 90  Train: (cos_loss = 38346.22f0, penalty = 2801.057f0, AvgMeanCos = 0.9794f0)\n"
     ]
    },
    {
     "name": "stderr",
     "output_type": "stream",
     "text": [
      "\u001b[36m\u001b[1m[ \u001b[22m\u001b[39m\u001b[36m\u001b[1mInfo: \u001b[22m\u001b[39mModel is saved in saves/Kinetics.bson\n"
     ]
    },
    {
     "name": "stdout",
     "output_type": "stream",
     "text": [
      "Epoch: 91  Train: (cos_loss = 38319.51f0, penalty = 2800.8079f0, AvgMeanCos = 0.9794f0)\n",
      "Epoch: 92  Train: (cos_loss = 38294.883f0, penalty = 2800.5588f0, AvgMeanCos = 0.9794f0)\n",
      "Epoch: 93  Train: (cos_loss = 38268.91f0, penalty = 2800.3096f0, AvgMeanCos = 0.9794f0)\n",
      "Epoch: 94  Train: (cos_loss = 38243.855f0, penalty = 2800.06f0, AvgMeanCos = 0.9794f0)\n",
      "Epoch: 95  Train: (cos_loss = 38218.133f0, penalty = 2799.8105f0, AvgMeanCos = 0.9795f0)\n"
     ]
    },
    {
     "name": "stderr",
     "output_type": "stream",
     "text": [
      "\u001b[36m\u001b[1m[ \u001b[22m\u001b[39m\u001b[36m\u001b[1mInfo: \u001b[22m\u001b[39mModel is saved in saves/Kinetics.bson\n"
     ]
    },
    {
     "name": "stdout",
     "output_type": "stream",
     "text": [
      "Epoch: 96  Train: (cos_loss = 38193.99f0, penalty = 2799.561f0, AvgMeanCos = 0.9795f0)\n",
      "Epoch: 97  Train: (cos_loss = 38169.82f0, penalty = 2799.3115f0, AvgMeanCos = 0.9795f0)\n",
      "Epoch: 98  Train: (cos_loss = 38145.81f0, penalty = 2799.0615f0, AvgMeanCos = 0.9795f0)\n",
      "Epoch: 99  Train: (cos_loss = 38122.85f0, penalty = 2798.813f0, AvgMeanCos = 0.9795f0)\n",
      "Epoch: 100  Train: (cos_loss = 38099.684f0, penalty = 2798.5635f0, AvgMeanCos = 0.9795f0)\n"
     ]
    },
    {
     "name": "stderr",
     "output_type": "stream",
     "text": [
      "\u001b[36m\u001b[1m[ \u001b[22m\u001b[39m\u001b[36m\u001b[1mInfo: \u001b[22m\u001b[39mModel is saved in saves/Kinetics.bson\n",
      "\u001b[36m\u001b[1m[ \u001b[22m\u001b[39m\u001b[36m\u001b[1mInfo: \u001b[22m\u001b[39mVelocity saved in adata.uns[\"velocity\"]\n",
      "\u001b[36m\u001b[1m[ \u001b[22m\u001b[39m\u001b[36m\u001b[1mInfo: \u001b[22m\u001b[39mkinetics saved in adata.uns[\"kinetics\"]\n",
      "\u001b[36m\u001b[1m[ \u001b[22m\u001b[39m\u001b[36m\u001b[1mInfo: \u001b[22m\u001b[39mStart estimate pseudotime, it may take a long time.\n",
      "Generating Trajectories: 100%|\u001b[34m██████████\u001b[0m| 9850/9850 [00:00<00:00, 34245.69it/s]\u001b[0m\n"
     ]
    },
    {
     "name": "stdout",
     "output_type": "stream",
     "text": [
      "Pseudo random number generator seeds are set to:  [0, 1, 2, 3, 4]\n",
      "There are 3 clusters.\n",
      "[0 1 2]\n",
      "557.213194 seconds (2.55 G allocations: 808.308 GiB, 21.46% gc time, 5.77% compilation time: 3% of which was recompilation)\n",
      "--- 14.245107650756836 seconds ---\n"
     ]
    },
    {
     "data": {
      "text/plain": [
       "AnnData object 18213 ✕ 2000"
      ]
     },
     "execution_count": 6,
     "metadata": {},
     "output_type": "execute_result"
    }
   ],
   "source": [
    "@time benchmark()"
   ]
  },
  {
   "cell_type": "code",
   "execution_count": null,
   "id": "d7250bc2-0c25-4fa5-86ee-77e47d9db42c",
   "metadata": {},
   "outputs": [],
   "source": []
  }
 ],
 "metadata": {
  "kernelspec": {
   "display_name": "Julia 1.10.0",
   "language": "julia",
   "name": "julia-1.10"
  },
  "language_info": {
   "file_extension": ".jl",
   "mimetype": "application/julia",
   "name": "julia",
   "version": "1.10.0"
  }
 },
 "nbformat": 4,
 "nbformat_minor": 5
}
